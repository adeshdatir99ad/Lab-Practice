{
 "cells": [
  {
   "cell_type": "markdown",
   "metadata": {},
   "source": [
    "## Quick note about Jupyter cells\n",
    "\n",
    "When you are editing a cell in Jupyter notebook, you need to re-run the cell by pressing **`<Shift> + <Enter>`**. This will allow changes you made to be available to other cells.\n",
    "\n",
    "Use **`<Enter>`** to make new lines inside a cell you are editing.\n",
    "\n",
    "#### Code cells\n",
    "\n",
    "Re-running will execute any statements you have written. To edit an existing code cell, click on it.\n",
    "\n",
    "#### Markdown cells\n",
    "\n",
    "Re-running will render the markdown text. To edit an existing markdown cell, double-click on it.\n",
    "\n",
    "<hr>\n"
   ]
  },
  {
   "cell_type": "code",
   "execution_count": 13,
   "metadata": {},
   "outputs": [],
   "source": [
    "# Basics of Python Programming with Jupyter Notebook"
   ]
  },
  {
   "cell_type": "code",
   "execution_count": 14,
   "metadata": {
    "tags": []
   },
   "outputs": [
    {
     "output_type": "stream",
     "name": "stdout",
     "text": "Hello World!\n"
    },
    {
     "output_type": "execute_result",
     "data": {
      "text/plain": "'Hello world'"
     },
     "metadata": {},
     "execution_count": 14
    }
   ],
   "source": [
    "# This is a one line printed with & without print function\n",
    "print('Hello World!')\n",
    "\n",
    "\"Hello world\"\n"
   ]
  },
  {
   "cell_type": "code",
   "execution_count": 15,
   "metadata": {
    "tags": []
   },
   "outputs": [
    {
     "output_type": "stream",
     "name": "stdout",
     "text": "1440\n"
    }
   ],
   "source": [
    "# Write an expression to calculate the number of minutes in a day.\n",
    "\n",
    "print(24 * 60)"
   ]
  },
  {
   "cell_type": "code",
   "execution_count": 16,
   "metadata": {
    "tags": []
   },
   "outputs": [
    {
     "output_type": "execute_result",
     "data": {
      "text/plain": "86400"
     },
     "metadata": {},
     "execution_count": 16
    }
   ],
   "source": [
    "# Write an expression to calculate the number of seconds in a day.\n",
    "24 * 60 * 60"
   ]
  },
  {
   "cell_type": "code",
   "execution_count": 17,
   "metadata": {
    "tags": []
   },
   "outputs": [
    {
     "output_type": "execute_result",
     "data": {
      "text/plain": "86400"
     },
     "metadata": {},
     "execution_count": 17
    }
   ],
   "source": [
    "# Last printed expression is assigned to the variable _\n",
    "\n",
    "_"
   ]
  },
  {
   "cell_type": "code",
   "execution_count": 18,
   "metadata": {
    "tags": []
   },
   "outputs": [
    {
     "output_type": "stream",
     "name": "stdout",
     "text": "250\n"
    }
   ],
   "source": [
    "# Python as a Calculator\n",
    "# Assigning values to the variable\n",
    "# What is the value of variable n after the following instructions are executed?  \n",
    "x = 5  \n",
    "y = 50\n",
    "A = x * y\n",
    "print(A)"
   ]
  },
  {
   "cell_type": "code",
   "execution_count": 19,
   "metadata": {
    "tags": []
   },
   "outputs": [
    {
     "output_type": "stream",
     "name": "stdout",
     "text": "3.2857142857142856\n3\n"
    }
   ],
   "source": [
    "# Numbers\n",
    "print(23 / 7)           # Float       \n",
    "\n",
    "print(23 // 7)          # Discards fractional part\n"
   ]
  },
  {
   "cell_type": "code",
   "execution_count": 20,
   "metadata": {},
   "outputs": [
    {
     "output_type": "execute_result",
     "data": {
      "text/plain": "0"
     },
     "metadata": {},
     "execution_count": 20
    }
   ],
   "source": [
    "# Numbers\n",
    "21 % 7       # Returns remainder of division\n"
   ]
  },
  {
   "cell_type": "code",
   "execution_count": 21,
   "metadata": {},
   "outputs": [
    {
     "output_type": "execute_result",
     "data": {
      "text/plain": "49"
     },
     "metadata": {},
     "execution_count": 21
    }
   ],
   "source": [
    "# Numbers\n",
    "7 ** 2       # 7 is squared \n"
   ]
  },
  {
   "cell_type": "code",
   "execution_count": 22,
   "metadata": {},
   "outputs": [
    {
     "output_type": "execute_result",
     "data": {
      "text/plain": "16807"
     },
     "metadata": {},
     "execution_count": 22
    }
   ],
   "source": [
    "#  Numbers\n",
    "7 ** 5       # 7 to the power 5"
   ]
  },
  {
   "cell_type": "code",
   "execution_count": 23,
   "metadata": {
    "tags": []
   },
   "outputs": [
    {
     "output_type": "stream",
     "name": "stdout",
     "text": "You are 18 years old\n"
    }
   ],
   "source": [
    "# output by the following if the user enters 18 in response to the input prompt.\n",
    "age = input('How old are you?: ')\n",
    "print('You are', age, 'years old')"
   ]
  },
  {
   "cell_type": "code",
   "execution_count": 24,
   "metadata": {
    "tags": []
   },
   "outputs": [
    {
     "output_type": "stream",
     "name": "stdout",
     "text": "Enjoy It !\n"
    }
   ],
   "source": [
    "# Argument Passing\n",
    "Python_is_interesting = True\n",
    "if(Python_is_interesting):\n",
    "    print(\"Enjoy It !\")\n",
    "else:\n",
    "    print(\"Give it a try !\")"
   ]
  }
 ],
 "metadata": {
  "language_info": {
   "codemirror_mode": {
    "name": "ipython",
    "version": 3
   },
   "file_extension": ".py",
   "mimetype": "text/x-python",
   "name": "python",
   "nbconvert_exporter": "python",
   "pygments_lexer": "ipython3",
   "version": "3.8.0-final"
  },
  "orig_nbformat": 2,
  "kernelspec": {
   "name": "python_defaultSpec_1596136414185",
   "display_name": "Python 3.8.0 64-bit"
  }
 },
 "nbformat": 4,
 "nbformat_minor": 2
}